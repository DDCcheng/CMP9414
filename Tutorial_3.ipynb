{
 "cells": [
  {
   "cell_type": "markdown",
   "metadata": {
    "id": "x__QmUxMdorf"
   },
   "source": [
    "\n",
    "# **COMP9414 Artificial Intelligence**\n",
    "## Tutorial 3: Constraint Satisfaction\n",
    "\n",
    "@Author: **Wayne Wobcke**\n",
    "\n",
    "### Objective\n",
    "\n",
    "This week we look at algorithms for solving Constraint Satisfaction Problems (CSPs). This will be essential preparation for Assignment 1.\n",
    "\n",
    "### Before the tutorial\n",
    "\n",
    "Review the lectures on Constraint Satisfaction Problems.\n",
    "\n",
    "Read the AIPython documentation on the CSP solvers (the pdf file in the `aipython` directory) and look at the CSP solver code.\n",
    "\n",
    "Load into VS Code (or wherever you run your Python), the file `cspConsistencyGUI.py`.\n",
    "\n",
    "Run this code separately to step through the arc consistency algorithm.\n",
    "\n",
    "Finally, look at the code for the N-Queens problem in `cspExamples.py` and fix the mistake in the definition of `queens(ri,rj)` (see lecture slides)."
   ]
  },
  {
   "cell_type": "markdown",
   "metadata": {},
   "source": [
    "### 1. Set up AIPython\n",
    "\n",
    "In this setup, the Jupyter notebook is on my desktop, and the aipython directory is also on my desktop.\n",
    "\n",
    "To find the aipython files, the aipython directory has to be added to the Python path.\n",
    "\n",
    "You can do this by changing the shell environment variable PYTHONPATH (permanent option), or temporarily, as done here.\n",
    "\n",
    "You can add either the full path (using `os.path.abspath`), or as in the code below, the relative path."
   ]
  },
  {
   "cell_type": "code",
   "execution_count": 19,
   "metadata": {},
   "outputs": [
    {
     "data": {
      "text/plain": [
       "['c:\\\\Users\\\\35562\\\\.conda\\\\envs\\\\com9414\\\\python313.zip',\n",
       " 'c:\\\\Users\\\\35562\\\\.conda\\\\envs\\\\com9414\\\\DLLs',\n",
       " 'c:\\\\Users\\\\35562\\\\.conda\\\\envs\\\\com9414\\\\Lib',\n",
       " 'c:\\\\Users\\\\35562\\\\.conda\\\\envs\\\\com9414',\n",
       " '',\n",
       " 'c:\\\\Users\\\\35562\\\\.conda\\\\envs\\\\com9414\\\\Lib\\\\site-packages',\n",
       " 'c:\\\\Users\\\\35562\\\\.conda\\\\envs\\\\com9414\\\\Lib\\\\site-packages\\\\win32',\n",
       " 'c:\\\\Users\\\\35562\\\\.conda\\\\envs\\\\com9414\\\\Lib\\\\site-packages\\\\win32\\\\lib',\n",
       " 'c:\\\\Users\\\\35562\\\\.conda\\\\envs\\\\com9414\\\\Lib\\\\site-packages\\\\Pythonwin',\n",
       " 'E:\\\\onedrive\\\\OneDrive - UNSW\\\\桌面\\\\CMP9414\\x07ipython',\n",
       " 'e:\\\\onedrive\\\\OneDrive - UNSW\\\\桌面\\\\CMP9414\\\\aipython',\n",
       " 'E:\\\\onedrive\\\\OneDrive - UNSW\\\\桌面\\\\CMP9414\\x07ipython',\n",
       " 'E:\\\\onedrive\\\\OneDrive - UNSW\\\\桌面\\\\CMP9414\\\\aipython',\n",
       " 'aipython',\n",
       " 'aipython',\n",
       " 'aipython',\n",
       " 'aipython',\n",
       " 'aipython',\n",
       " 'aipython']"
      ]
     },
     "execution_count": 19,
     "metadata": {},
     "output_type": "execute_result"
    }
   ],
   "source": [
    "import sys\n",
    "sys.path.append('aipython')\n",
    "sys.path # check that aipython is now on the path"
   ]
  },
  {
   "cell_type": "markdown",
   "metadata": {},
   "source": [
    "### 2. Depth-First Search Constraint Solver\n",
    "\n",
    "The Depth-First Constraint Solver in AIPython by default uses a random ordering of the variables in the CSP.\n",
    "\n",
    "We will use the N-Queens problem as a running example in this tutorial. This is defined in `cspExamples.py`.\n",
    "\n",
    "Run the solver by calling `dfs_solve1` (first solution) or `dfs_solve_all` (all solutions)."
   ]
  },
  {
   "cell_type": "code",
   "execution_count": 20,
   "metadata": {},
   "outputs": [
    {
     "name": "stdout",
     "output_type": "stream",
     "text": [
      "{R0: 1, R1: 3, R2: 2, R3: 0}\n"
     ]
    }
   ],
   "source": [
    "from cspExamples import n_queens\n",
    "from cspDFS import dfs_solve1, dfs_solve_all\n",
    "\n",
    "# call the Depth-First Search solver\n",
    "print(dfs_solve1(n_queens(4)))\n",
    "# print(dfs_solve_all(n_queens(4)))"
   ]
  },
  {
   "cell_type": "markdown",
   "metadata": {},
   "source": [
    "### 3. Depth-First Search Constraint Solver using Forward Checking with MRV Heuristic\n",
    "\n",
    "The Depth-First Constraint Solver in AIPython by default uses a random ordering of the variables in the CSP.\n",
    "\n",
    "We redefine the `dfs_solver` methods to implement the MRV (minimum remaining values) heuristic using forward checking.\n",
    "\n",
    "Because the AIPython code is designed to manipulate domain sets, we also need to redefine `can_evaluate` to handle partial assignments."
   ]
  },
  {
   "cell_type": "code",
   "execution_count": 21,
   "metadata": {},
   "outputs": [],
   "source": [
    "num_expanded = 0\n",
    "display = False\n",
    "\n",
    "def can_evaluate(c, assignment):\n",
    "    \"\"\" assignment is a variable:value dictionary\n",
    "        returns True if the constraint can be evaluated given assignment\n",
    "    \"\"\"\n",
    "    return assignment != {} and all(v in assignment.keys() and type(assignment[v]) != list for v in c.scope)\n",
    "\n",
    "def mrv_dfs_solver(constraints, context, var_order):\n",
    "    \"\"\" generator for all solutions to csp\n",
    "        context is an assignment of values to some of the variables\n",
    "        var_order  is  a list of the variables in csp that are not in context\n",
    "    \"\"\"\n",
    "    global num_expanded, display\n",
    "    if display:\n",
    "        print(\"Context\", context)\n",
    "    to_eval = {c for c in constraints if can_evaluate(c, context)}\n",
    "    if all(c.holds(context) for c in to_eval):\n",
    "        if var_order == []:\n",
    "            print(\"Nodes expanded to reach solution:\", num_expanded)\n",
    "            yield context\n",
    "        else:\n",
    "            rem_cons = [c for c in constraints if c not in to_eval] # constraints involving unset variables\n",
    "            var = var_order[0]\n",
    "            rem_vars = var_order[1:]\n",
    "            for val in var.domain:\n",
    "                if display:\n",
    "                    print(\"Setting\", var, \"to\", val)\n",
    "                num_expanded += 1\n",
    "                rem_context = context|{var:val}\n",
    "                # apply forward checking on remaining variables\n",
    "                if len(var_order) > 1:\n",
    "                    rem_vars_original = list((v, list(v.domain.copy())) for v in rem_vars)\n",
    "                    if display:\n",
    "                        print(\"Original domains:\", rem_vars_original)\n",
    "                    # constraints that can't already be evaluated in rem_cons\n",
    "                    rem_cons_ff = [c for c in constraints if c in rem_cons and not can_evaluate(c, rem_context)]\n",
    "                    for rem_var in rem_vars:\n",
    "                        # constraints that can be evaluated by adding a value of rem_var to rem_context\n",
    "                        rem_to_eval = {c for c in rem_cons_ff if can_evaluate(c, rem_context|{rem_var: rem_var.domain[0]})}\n",
    "                        # new domain for rem_var are the values for which all newly evaluable constraints hold\n",
    "                        rem_vals = rem_var.domain.copy()\n",
    "                        for rem_val in rem_var.domain:\n",
    "                            # no constraint with rem_var in the existing context can be violated\n",
    "                            for c in rem_to_eval:\n",
    "                                if not c.holds(rem_context|{rem_var: rem_val}):\n",
    "                                    if rem_val in rem_vals:\n",
    "                                        rem_vals.remove(rem_val)\n",
    "                        rem_var.domain = rem_vals\n",
    "                        # order remaining variables by MRV\n",
    "                        rem_vars.sort(key=lambda v: len(v.domain))\n",
    "                    if display:\n",
    "                        print(\"After forward checking:\", list((v, v.domain) for v in rem_vars))\n",
    "                if rem_vars == [] or all(len(rem_var.domain) > 0 for rem_var in rem_vars):\n",
    "                    yield from mrv_dfs_solver(rem_cons, context|{var:val}, rem_vars)\n",
    "                # restore original domains if changed through forward checking\n",
    "                if len(var_order) > 1:\n",
    "                    if display:\n",
    "                        print(\"Restoring original domain\", rem_vars_original)\n",
    "                    for (v, domain) in rem_vars_original:\n",
    "                        v.domain = domain\n",
    "            if display:\n",
    "                print(\"Nodes expanded so far:\", num_expanded)\n",
    "\n",
    "def mrv_dfs_solve_all(csp, var_order=None):\n",
    "    \"\"\" depth-first CSP solver to return a list of all solutions to csp \"\"\"\n",
    "    global num_expanded\n",
    "    num_expanded = 0\n",
    "    if var_order == None:    # order variables by MRV\n",
    "        var_order = list(csp.variables)\n",
    "        var_order.sort(key=lambda var: len(var.domain))\n",
    "    return list(mrv_dfs_solver(csp.constraints, {}, var_order))\n",
    "\n",
    "def mrv_dfs_solve1(csp, var_order=None):\n",
    "    \"\"\" depth-first CSP solver \"\"\"\n",
    "    global num_expanded\n",
    "    num_expanded = 0\n",
    "    if var_order == None:    # order variables by MRV\n",
    "        var_order = list(csp.variables)\n",
    "        var_order.sort(key=lambda var: len(var.domain))\n",
    "    for sol in mrv_dfs_solver(csp.constraints, {}, var_order):\n",
    "        return sol  #return first one"
   ]
  },
  {
   "cell_type": "markdown",
   "metadata": {},
   "source": [
    "Run this on the N-Queens problem."
   ]
  },
  {
   "cell_type": "code",
   "execution_count": 22,
   "metadata": {},
   "outputs": [
    {
     "name": "stdout",
     "output_type": "stream",
     "text": [
      "Nodes expanded to reach solution: 8\n",
      "{R0: 1, R1: 3, R2: 2, R3: 0}\n"
     ]
    }
   ],
   "source": [
    "from cspExamples import n_queens\n",
    "\n",
    "# call the Depth-First Search solver\n",
    "print(mrv_dfs_solve1(n_queens(4)))\n",
    "# print(mrv_dfs_solve_all(n_queens(4)))"
   ]
  },
  {
   "cell_type": "markdown",
   "metadata": {},
   "source": [
    "Run some experiments to compare the Depth-First constraint solver with and without forward checking and/or minimum remaining value heuristic."
   ]
  },
  {
   "cell_type": "markdown",
   "metadata": {},
   "source": [
    "### 4. Domain Splitting with Arc Consistency\n",
    "\n",
    "The more complex constraint solver AIPython is based on domain splitting and checking for arc consistency at each step.\n",
    "\n",
    "To implement this, the CSP is cast as a search problem where the actions are splitting the domain of one variable into two parts."
   ]
  },
  {
   "cell_type": "code",
   "execution_count": 23,
   "metadata": {},
   "outputs": [
    {
     "name": "stdout",
     "output_type": "stream",
     "text": [
      "Solution: {R0: {0, 1, 2, 3}, R1: {0, 1, 2, 3}, R2: {0, 1, 2, 3}, R3: {0, 1, 2, 3}} --> {R0: {0, 1}, R1: {2, 3}, R2: {0, 1, 2}, R3: {0, 1, 2, 3}} --> {R0: {1}, R1: {3}, R2: {2}, R3: {0}} (cost: 2)\n",
      " 3 paths have been expanded and 1 paths remain in the frontier\n",
      "Solution: {R0: 1, R1: 3, R2: 2, R3: 0}\n"
     ]
    }
   ],
   "source": [
    "from searchGeneric import Searcher\n",
    "from cspConsistency import Search_with_AC_from_CSP, select\n",
    "from cspExamples import n_queens\n",
    "\n",
    "sol = Searcher(Search_with_AC_from_CSP(n_queens(4))).search()\n",
    "if sol:\n",
    "    print(\"Solution:\", {v: select(d) for (v,d) in sol.end().items()})"
   ]
  },
  {
   "cell_type": "markdown",
   "metadata": {},
   "source": [
    "Examine the code in `cspConsistency.py` to see how the variable for splitting is chosen."
   ]
  },
  {
   "cell_type": "markdown",
   "metadata": {},
   "source": [
    "### 5. Stochastic Local Search\n",
    "\n",
    "The final constraint solving method is Stochastic Local Search.\n",
    "\n",
    "This is not guaranteed to find a solution within a given number of steps.\n",
    "\n",
    "Run the code repeatedly and observe the differences in the number of steps to find a solution.\n",
    "\n",
    "Compare the behaviour to the exact constraint solvers."
   ]
  },
  {
   "cell_type": "code",
   "execution_count": 24,
   "metadata": {},
   "outputs": [
    {
     "name": "stdout",
     "output_type": "stream",
     "text": [
      "Solution found: {R0: 2, R1: 1, R2: 3, R3: 0} in 11 steps\n"
     ]
    },
    {
     "data": {
      "text/plain": [
       "11"
      ]
     },
     "execution_count": 24,
     "metadata": {},
     "output_type": "execute_result"
    }
   ],
   "source": [
    "from cspSLS import SLSearcher\n",
    "from cspExamples import n_queens\n",
    "\n",
    "SLSearcher(n_queens(4)).search(1000, 1.0) # Fully greedy"
   ]
  },
  {
   "cell_type": "markdown",
   "metadata": {},
   "source": [
    "The parameters define the balance between greedily choosing a step and choosing variables based on the number of constraint violations.\n",
    "\n",
    "What do you expect to happen? \n",
    "\n",
    "Run the algorithm with different values of the parameters and observe the differences.\n",
    "\n",
    "Was your hypothesis correct?"
   ]
  },
  {
   "cell_type": "code",
   "execution_count": 25,
   "metadata": {},
   "outputs": [
    {
     "name": "stdout",
     "output_type": "stream",
     "text": [
      "Solution found: {R0: 3, R1: 1, R2: 0, R3: 2} in 4 steps\n",
      "Solution found: {R0: 3, R1: 1, R2: 0, R3: 2} in 97 steps\n"
     ]
    },
    {
     "data": {
      "text/plain": [
       "97"
      ]
     },
     "execution_count": 25,
     "metadata": {},
     "output_type": "execute_result"
    }
   ],
   "source": [
    "from cspSLS import SLSearcher\n",
    "from cspExamples import n_queens\n",
    "\n",
    "SLSearcher(n_queens(4)).search(1000, 0.7) # Mostly greedy\n",
    "SLSearcher(n_queens(4)).search(1000, 0) # Choose variable based only on conflicts"
   ]
  }
 ],
 "metadata": {
  "colab": {
   "provenance": [],
   "toc_visible": true
  },
  "kernelspec": {
   "display_name": "Python 3",
   "language": "python",
   "name": "python3"
  },
  "language_info": {
   "codemirror_mode": {
    "name": "ipython",
    "version": 3
   },
   "file_extension": ".py",
   "mimetype": "text/x-python",
   "name": "python",
   "nbconvert_exporter": "python",
   "pygments_lexer": "ipython3",
   "version": "3.13.7"
  }
 },
 "nbformat": 4,
 "nbformat_minor": 1
}
