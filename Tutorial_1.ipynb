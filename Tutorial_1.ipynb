{
 "cells": [
  {
   "cell_type": "markdown",
   "metadata": {
    "id": "x__QmUxMdorf"
   },
   "source": [
    "\n",
    "# **COMP9414 Artificial Intelligence**\n",
    "## Tutorial 1: Agents\n",
    "\n",
    "@Author: **Wayne Wobcke**\n",
    "\n",
    "### Objective\n",
    "\n",
    "Welcome to the first topic of COMP9414 Artificial Intelligence! This week, we will look into the behaviour of a very simple \"predator-prey\" agent in a dynamically changing environment. We will see how the performance of the agent is influenced by both its reasoning, memory and perception, and the nature of the environment. The key consequence is that what counts as \"intelligence\" for the agent is a function of the agent's interaction with the environment. The same applies to human agents, though the environments are much more complex.\n",
    "\n",
    "### Before the tutorial\n",
    "\n",
    "Review the lecture material, particularly the lecture on Agents. Set up your Python environment and download the `aipython` code for next week."
   ]
  },
  {
   "cell_type": "markdown",
   "metadata": {},
   "source": [
    "### 1. Define the Hunter Agent Simulation\n",
    "\n",
    "The \"hunter\" agent is a simple agent that operates in a grid environment foraging for food.\n",
    "We will begin by creating the ```Environment``` class, which simulates a grid world with food in it and a ticking clock that might make food disappear."
   ]
  },
  {
   "cell_type": "code",
   "execution_count": 3,
   "metadata": {},
   "outputs": [],
   "source": [
    "# -*- coding: utf-8 -*-\n",
    "\n",
    "from scipy.spatial import distance\n",
    "import random\n",
    "\n",
    "class Environment():\n",
    "    # Maintains a set of food and computes percepts and effects of agent actions\n",
    "    # Actions are always successful if feasible\n",
    "    # Only one food item can be in any location\n",
    "    \n",
    "    # Parameters\n",
    "    # grid_end = 9: end coordinate of grid in X and Y direction, numbered from 0\n",
    "    # init_food = 5: initial number of food items\n",
    "    # food_del_chance = 0.05: probabilty of food item disappearing on each clock tick\n",
    "    # food_add_chance = 0.20: probabilty of food item appearing on each clock tick\n",
    "\n",
    "    def __init__(self, grid_end=9, init_food=5, food_del_chance=0.05, food_add_chance=0.20):\n",
    "        self.grid_end = grid_end\n",
    "        self.grid_size = grid_end + 1\n",
    "        self.init_food = init_food\n",
    "        self.food_del_chance = food_del_chance\n",
    "        self.food_add_chance = food_add_chance\n",
    "        self.food = set()\n",
    "        for i in range(self.init_food):\n",
    "            X = random.randint(0, self.grid_end)\n",
    "            Y = random.randint(0, self.grid_end)\n",
    "            if not ((X,Y) in self.food):\n",
    "                self.food.add((X,Y))\n",
    "        print(\"Food at\", end=\" \")\n",
    "        print(self.food)\n",
    "                \n",
    "    # food items in agent's field of view\n",
    "    def get_percepts(self, agent):\n",
    "        (agentX,agentY) = agent.location\n",
    "        return {(X,Y) for (X,Y) in self.food if distance.euclidean((agentX,agentY), (X,Y)) <= agent.horizon}\n",
    "    \n",
    "    # consume food, add 1 to agent's score\n",
    "    def eat(self, agent):\n",
    "        if agent.location in self.food:\n",
    "            self.food.remove(agent.location)\n",
    "            agent.score += 1\n",
    "        \n",
    "    # movement actions\n",
    "    def move_left(self, agent):\n",
    "        (X,Y) = agent.location\n",
    "        if X > 0:\n",
    "            return (X-1,Y)\n",
    "        else:\n",
    "            return (X,Y)\n",
    "\n",
    "    # Movement actions\n",
    "    def move_right(self, agent):\n",
    "        (X,Y) = agent.location\n",
    "        if X < self.grid_end:\n",
    "            return (X+1,Y)\n",
    "        else:\n",
    "            return (X,Y)\n",
    "        \n",
    "    def move_up(self, agent):\n",
    "        (X,Y) = agent.location\n",
    "        if Y < self.grid_end:\n",
    "            return (X,Y+1)\n",
    "        else:\n",
    "            return (X,Y)\n",
    "        \n",
    "    def move_down(self, agent):\n",
    "        (X,Y) = agent.location\n",
    "        if Y > 0:\n",
    "            return (X,Y-1)\n",
    "        else:\n",
    "            return (X,Y)\n",
    "    \n",
    "    # Environment update function\n",
    "    def clock_tick(self):\n",
    "        # possibly delete food items -- copy elements not deleted into new set\n",
    "        food_set = set()\n",
    "        for location in self.food:\n",
    "            r = random.random()\n",
    "            if (r > self.food_del_chance):\n",
    "                food_set.add(location)\n",
    "            else:\n",
    "                print(\"Food disappears at\", end=\" \")\n",
    "                print(location)\n",
    "        self.food = food_set\n",
    "        # possibly add new food item in random location\n",
    "        r = random.random()\n",
    "        if (r < self.food_add_chance):\n",
    "            X = random.randint(0, self.grid_end)\n",
    "            Y = random.randint(0, self.grid_end)\n",
    "            if not ((X,Y) in self.food):\n",
    "                self.food.add((X,Y))             \n",
    "                print(\"Food appears at\", end=\" \")\n",
    "                print((X,Y))"
   ]
  },
  {
   "cell_type": "markdown",
   "metadata": {},
   "source": [
    "We can now define the agent class, which will take an environment and implement an agent cycle within the environment."
   ]
  },
  {
   "cell_type": "code",
   "execution_count": 4,
   "metadata": {},
   "outputs": [],
   "source": [
    "class Agent():\n",
    "    # Agent maintains set of food items seen...but does not update it very well\n",
    "    # Agent starts at random position\n",
    "    \n",
    "    # Parameter\n",
    "    # horizon = 10 # the agent can only see food up to this distance\n",
    "    \n",
    "    def __init__(self, env, horizon=10):\n",
    "        self.env = env\n",
    "        self.horizon = horizon # the agent can only see food up to this distance\n",
    "        self.location = (random.randint(0, env.grid_end),random.randint(0, env.grid_end))\n",
    "        self.food_seen = set()\n",
    "        self.score = 0\n",
    "        print(\"Agent at\", end=\" \")\n",
    "        print(self.location)\n",
    "        \n",
    "    def cycle(self):\n",
    "        # perception\n",
    "        percepts = self.env.get_percepts(self)\n",
    "        self.food_seen.update(percepts)  # add new perceived food to set of food seen\n",
    "        # deliberate mistake: should we delete items that have disappeared?\n",
    "        \n",
    "        # action selection and belief update\n",
    "        if self.food_seen == set():      # if no food on the list, simply move right\n",
    "            self.location = self.env.move_right(self)\n",
    "            print(\"Agent performs move_right to\", end=\" \")\n",
    "            print(self.location)\n",
    "        else:\n",
    "            # Move towards nearest location in food_seen according to Manhattan distance\n",
    "            min_d = min(distance.cityblock(self.location, (X,Y)) for (X,Y) in self.food_seen)\n",
    "            if min_d == 0:\n",
    "                self.env.eat(self)\n",
    "                print(\"Agent performs eat at\", end=\" \")\n",
    "                print(self.location)\n",
    "                self.food_seen.remove(self.location)\n",
    "            else:\n",
    "                best = {(X,Y) for (X,Y) in self.food_seen if distance.cityblock(self.location, (X,Y)) == min_d}\n",
    "                (agentX,agentY) = self.location\n",
    "                (X,Y) = best.pop()\n",
    "                if agentX < X:\n",
    "                    self.location = self.env.move_right(self)\n",
    "                    print(\"Agent performs move_right to\", end=\" \")\n",
    "                    print(self.location)\n",
    "                elif agentX > X:\n",
    "                    self.location = self.env.move_left(self)\n",
    "                    print(\"Agent performs move_left to\", end=\" \")\n",
    "                    print(self.location)\n",
    "                elif agentY < Y:\n",
    "                    self.location = self.env.move_up(self)\n",
    "                    print(\"Agent performs move_up to\", end=\" \")\n",
    "                    print(self.location)\n",
    "                else:\n",
    "                    self.location = self.env.move_down(self)\n",
    "                    print(\"Agent performs move_down to\", end=\" \")\n",
    "                    print(self.location)\n"
   ]
  },
  {
   "cell_type": "markdown",
   "metadata": {},
   "source": [
    "### 2. Run the Hunter Agent Simulation\n",
    "\n",
    "Create an `Environment` object and an `Agent` object and iteratively call the `clock_tick` and `cycle` methods. The `Agent` object maintains its score."
   ]
  },
  {
   "cell_type": "code",
   "execution_count": 5,
   "metadata": {},
   "outputs": [
    {
     "name": "stdout",
     "output_type": "stream",
     "text": [
      "Food at {(9, 9), (3, 7), (1, 8), (0, 6), (2, 3), (9, 5), (5, 6), (7, 2), (1, 0), (8, 5)}\n",
      "Agent at (7, 9)\n",
      "Food disappears at (9, 9)\n",
      "Agent performs move_left to (6, 9)\n",
      "Food disappears at (0, 6)\n",
      "Food disappears at (7, 2)\n",
      "Agent performs move_left to (5, 9)\n",
      "Agent performs move_down to (5, 8)\n",
      "Food appears at (4, 5)\n",
      "Agent performs move_down to (5, 7)\n",
      "Agent performs move_down to (5, 6)\n",
      "Agent performs eat at (5, 6)\n",
      "Agent performs move_left to (4, 6)\n",
      "Food appears at (1, 2)\n",
      "Agent performs move_down to (4, 5)\n",
      "Food appears at (7, 6)\n",
      "Agent performs eat at (4, 5)\n",
      "Food disappears at (8, 5)\n",
      "Agent performs move_left to (3, 5)\n",
      "Agent performs move_up to (3, 6)\n",
      "Food disappears at (1, 8)\n",
      "Agent performs move_up to (3, 7)\n",
      "Agent performs eat at (3, 7)\n",
      "Agent performs move_left to (2, 7)\n",
      "Agent performs move_left to (1, 7)\n",
      "Food disappears at (7, 6)\n",
      "Agent performs move_up to (1, 8)\n",
      "Food disappears at (1, 2)\n",
      "Agent performs eat at (1, 8)\n",
      "Agent performs move_left to (0, 8)\n",
      "Food appears at (9, 8)\n",
      "Agent performs move_down to (0, 7)\n",
      "Agent performs move_down to (0, 6)\n",
      "Agent score was 3\n"
     ]
    }
   ],
   "source": [
    "# Parameters\n",
    "# grid_end = 9: end coordinate of grid in X and Y direction, numbered from 0\n",
    "# init_food = 5: initial number of food items\n",
    "# food_del_chance = 0.05: probabilty of food item disappearing on each clock tick\n",
    "# food_add_chance = 0.20: probabilty of food item appearing on each clock tick\n",
    "env = Environment(9, 10, 0.05, 0.20)\n",
    "\n",
    "# Parameters\n",
    "# env: the environment the agents operates in\n",
    "# horizon = 10: the agent can only see food up to this distance away\n",
    "agent = Agent(env, 10)\n",
    "\n",
    "steps = 20\n",
    "for i in range(steps):\n",
    "    env.clock_tick()\n",
    "    agent.cycle()\n",
    "print(\"Agent score was %s\" % agent.score)"
   ]
  },
  {
   "cell_type": "markdown",
   "metadata": {},
   "source": [
    "### 2. Environment Properties\n",
    "\n",
    "This agent is more complex than a reactive agent that merely acts on the current percepts on each cycle. In what environments does this agent have an advantage over the reactive agent? First formulate some precise hypotheses. Then run some experiments to test your ideas by adjusting the parameters of the `Environment` object. Were your hypotheses correct? Explain why. It may be useful to plot the average scores over a number of simulations for various values of the parameter(s) using `plot.py` (see Question 5)."
   ]
  },
  {
   "cell_type": "code",
   "execution_count": 6,
   "metadata": {},
   "outputs": [],
   "source": [
    "# Your code goes here"
   ]
  },
  {
   "cell_type": "markdown",
   "metadata": {},
   "source": [
    "### 3. Agent Memory\n",
    "\n",
    "This agent stores all previous percepts in a set, but does not update that set when food is observed to disappear (food that should be possible to see is no longer visible). Change the code to implement this functionality. How will this affect the agent's performance (in a variety of settings)? First formulate some precise hypotheses. Then run some experiments to test your ideas by adjusting the parameters of the `Environment` object. Were your hypotheses correct? Explain why. It may be useful to plot the average scores over a number of simulations for various values of the parameter(s)."
   ]
  },
  {
   "cell_type": "code",
   "execution_count": 7,
   "metadata": {},
   "outputs": [],
   "source": [
    "# Your code goes here"
   ]
  },
  {
   "cell_type": "markdown",
   "metadata": {},
   "source": [
    "### 4. Action Selection in Multi-Agent Settings\n",
    "\n",
    "Consider how to define the agent action selection function when there are multiple agents in the world, all competing for food. Code the perception and action selection functions to handle this scenario, formulate some hypotheses, and run some experiments. Again explain why your hypotheses were correct/not correct. It may be useful to plot the average scores over a number of simulations for various values of the parameter(s).\n",
    "\n",
    "Note: It is straightforward using the existing code to create any number of agents."
   ]
  },
  {
   "cell_type": "code",
   "execution_count": 8,
   "metadata": {},
   "outputs": [],
   "source": [
    "# Your code goes here"
   ]
  },
  {
   "cell_type": "markdown",
   "metadata": {},
   "source": [
    "### 5. Plot Output\n",
    "\n",
    "Plot the average scores of several agents in a bar chart (this just uses dummy values for `agent_types` and `average_scores`)."
   ]
  },
  {
   "cell_type": "code",
   "execution_count": 8,
   "metadata": {},
   "outputs": [
    {
     "data": {
      "image/png": "[encoded data removed]",
      "text/plain": [
       "<Figure size 640x480 with 1 Axes>"
      ]
     },
     "metadata": {},
     "output_type": "display_data"
    }
   ],
   "source": [
    "import numpy as np\n",
    "import matplotlib.pyplot as plt\n",
    "plt.rcParams[\"savefig.directory\"] = \"~/Desktop\" # default for plots saved from GUI\n",
    "\n",
    "# dummy values for illustration\n",
    "agent_types = np.array(['simple','complex','smartest'])\n",
    "average_scores = np.array([2.5,3.5,4.5])\n",
    "\n",
    "plt.xlabel('Agent Type')\n",
    "plt.ylabel('Average Score')\n",
    "plt.title('Average Score for Different Agent Types')\n",
    "plt.bar(agent_types, average_scores)\n",
    "plt.xticks(agent_types, size='small')\n",
    "for a, b in zip(agent_types, average_scores):\n",
    "    plt.text(a, b+0.05, '%.1f' % b, ha='center', va='bottom', fontsize=8)\n",
    "# plt.savefig('plot.png') # saves to home directory by default\n",
    "plt.show(block=True) # if you run separately, block Python until figure is closed"
   ]
  }
 ],
 "metadata": {
  "colab": {
   "provenance": [],
   "toc_visible": true
  },
  "kernelspec": {
   "display_name": "com9414",
   "language": "python",
   "name": "python3"
  },
  "language_info": {
   "codemirror_mode": {
    "name": "ipython",
    "version": 3
   },
   "file_extension": ".py",
   "mimetype": "text/x-python",
   "name": "python",
   "nbconvert_exporter": "python",
   "pygments_lexer": "ipython3",
   "version": "3.13.7"
  }
 },
 "nbformat": 4,
 "nbformat_minor": 1
}
