{
 "cells": [
  {
   "cell_type": "markdown",
   "metadata": {
    "id": "x__QmUxMdorf"
   },
   "source": [
    "\n",
    "# **COMP9414 Artificial Intelligence**\n",
    "## Tutorial 2: Search\n",
    "\n",
    "@Author: **Wayne Wobcke**\n",
    "\n",
    "### Objective\n",
    "\n",
    "This week we look at the classicial search algorithms and their implementation in AIPython. The aims are (i) to make sure you understand the algorithms, including their properrties, and (ii) to understand the AIPython search code base because we will use this in Assignment 1.\n",
    "\n",
    "### Before the tutorial\n",
    "\n",
    "Review the lectures on Problem Solving and Search. Set up your Python environment and download the `aipython` code and unzip the directory.\n",
    "\n",
    "Read the AIPython documentation on the search algorithms (the pdf file in the `aipython` directory) and look at the search algorithm code.\n",
    "\n",
    "Load into VS Code (or wherever you run your Python), the file `searchGUI.py`.\n",
    "\n",
    "Run this code separately to step through various search algorithms (this needs to run separately as Jupyter does not integrate with graphics)."
   ]
  },
  {
   "cell_type": "markdown",
   "metadata": {},
   "source": [
    "### 1. Set up AIPython and the Romania Map Example\n",
    "\n",
    "In this setup, the Jupyter notebook is on my desktop, and the aipython directory is also on my desktop.\n",
    "\n",
    "To find the aipython files, the aipython directory has to be added to the Python path.\n",
    "\n",
    "You can do this by changing the shell environment variable PYTHONPATH (permanent option), or temporarily, as done here.\n",
    "\n",
    "You can add either the full path (using `os.path.abspath`), or as in the code below, the relative path."
   ]
  },
  {
   "cell_type": "code",
   "execution_count": 3,
   "metadata": {},
   "outputs": [
    {
     "data": {
      "text/plain": [
       "['c:\\\\Users\\\\35562\\\\.conda\\\\envs\\\\com9414\\\\python313.zip',\n",
       " 'c:\\\\Users\\\\35562\\\\.conda\\\\envs\\\\com9414\\\\DLLs',\n",
       " 'c:\\\\Users\\\\35562\\\\.conda\\\\envs\\\\com9414\\\\Lib',\n",
       " 'c:\\\\Users\\\\35562\\\\.conda\\\\envs\\\\com9414',\n",
       " '',\n",
       " 'c:\\\\Users\\\\35562\\\\.conda\\\\envs\\\\com9414\\\\Lib\\\\site-packages',\n",
       " 'c:\\\\Users\\\\35562\\\\.conda\\\\envs\\\\com9414\\\\Lib\\\\site-packages\\\\win32',\n",
       " 'c:\\\\Users\\\\35562\\\\.conda\\\\envs\\\\com9414\\\\Lib\\\\site-packages\\\\win32\\\\lib',\n",
       " 'c:\\\\Users\\\\35562\\\\.conda\\\\envs\\\\com9414\\\\Lib\\\\site-packages\\\\Pythonwin',\n",
       " 'aipython',\n",
       " 'aipython',\n",
       " 'aipython']"
      ]
     },
     "execution_count": 3,
     "metadata": {},
     "output_type": "execute_result"
    }
   ],
   "source": [
    "import sys\n",
    "sys.path.append('aipython') # change to your directory\n",
    "sys.path # check that aipython is now on the path"
   ]
  },
  {
   "cell_type": "markdown",
   "metadata": {},
   "source": [
    "We will use the Romania map as a running example. This is defined as an explicit search graph.\n",
    "More complicated examples construct the search graph dynamically."
   ]
  },
  {
   "cell_type": "code",
   "execution_count": 4,
   "metadata": {},
   "outputs": [],
   "source": [
    "from aipython.searchProblem import Arc, Search_problem_from_explicit_graph\n",
    "\n",
    "# define Romania map as an explicit search problem\n",
    "romania_map = Search_problem_from_explicit_graph('Romania map',\n",
    "        {'Arad',\n",
    "        'Bucharest',\n",
    "        'Craiova',\n",
    "        'Drobeta',\n",
    "        'Eforie',\n",
    "        'Fagaras',\n",
    "        'Giurgiu',\n",
    "        'Hirsova',\n",
    "        'Iasi',\n",
    "        'Lugoj',\n",
    "        'Mehadia',\n",
    "        'Neamt',\n",
    "        'Oradea',\n",
    "        'Pitesti',\n",
    "        'Rimnicu Vilcea',\n",
    "        'Sibiu',\n",
    "        'Timisoara',\n",
    "        'Urziceni', \n",
    "        'Vaslui', \n",
    "        'Zerind'},\n",
    "        [Arc('Arad', 'Zerind', 75),\n",
    "        Arc('Arad', 'Sibiu', 140),\n",
    "        Arc('Arad', 'Timisoara', 118),\n",
    "        Arc('Zerind', 'Oradea', 71),\n",
    "        Arc('Zerind', 'Arad', 75),\n",
    "        Arc('Oradea', 'Sibiu', 151),\n",
    "        Arc('Oradea', 'Zerind', 71),\n",
    "        Arc('Timisoara', 'Lugoj', 111),\n",
    "        Arc('Timisoara', 'Arad', 118),\n",
    "        Arc('Sibiu', 'Fagaras', 99),\n",
    "        Arc('Sibiu', 'Rimnicu Vilcea', 80),\n",
    "        Arc('Sibiu', 'Arad', 140),\n",
    "        Arc('Sibiu', 'Oradea', 151),\n",
    "        Arc('Lugoj', 'Mehadia', 70),\n",
    "        Arc('Lugoj', 'Timisoara', 111),\n",
    "        Arc('Fagaras', 'Bucharest', 211),\n",
    "        Arc('Fagaras', 'Sibiu', 99),\n",
    "        Arc('Rimnicu Vilcea', 'Pitesti', 97),\n",
    "        Arc('Rimnicu Vilcea', 'Craiova', 146),\n",
    "        Arc('Rimnicu Vilcea', 'Sibiu', 80),\n",
    "        Arc('Mehadia', 'Drobeta', 75),\n",
    "        Arc('Mehadia', 'Lugoj', 70),\n",
    "        Arc('Drobeta', 'Mehadia', 75),\n",
    "        Arc('Drobeta', 'Craiova', 120),\n",
    "        Arc('Craiova', 'Drobeta', 120),\n",
    "        Arc('Craiova', 'Pitesti', 138),\n",
    "        Arc('Craiova', 'Rimnicu Vilcea', 146),\n",
    "        Arc('Pitesti', 'Craiova', 138),\n",
    "        Arc('Pitesti', 'Rimnicu Vilcea', 97),\n",
    "        Arc('Pitesti', 'Bucharest', 101),\n",
    "        Arc('Bucharest', 'Pitesti', 101),\n",
    "        Arc('Bucharest', 'Urziceni', 85),\n",
    "        Arc('Bucharest', 'Giurgiu', 90),\n",
    "        Arc('Bucharest', 'Fagaras', 211),\n",
    "        Arc('Giurgiu', 'Bucharest', 90),\n",
    "        Arc('Urziceni', 'Hirsova', 98),\n",
    "        Arc('Urziceni', 'Vaslui', 142),\n",
    "        Arc('Urziceni', 'Bucharest', 85),\n",
    "        Arc('Hirsova', 'Eforie', 86),\n",
    "        Arc('Hirsova', 'Urziceni', 98),\n",
    "        Arc('Eforie', 'Hirsova', 86),\n",
    "        Arc('Vaslui', 'Iasi', 92),\n",
    "        Arc('Vaslui', 'Urziceni', 142),\n",
    "        Arc('Iasi', 'Vaslui', 92),\n",
    "        Arc('Iasi', 'Neamt', 87),\n",
    "        Arc('Neamt', 'Iasi', 87)],\n",
    "    start = 'Arad',\n",
    "    goals = {'Bucharest'},\n",
    "    hmap = {\n",
    "        'Arad' : 366,\n",
    "        'Bucharest' : 0,\n",
    "        'Craiova' : 160,\n",
    "        'Drobeta' : 242,\n",
    "        'Eforie' : 161,\n",
    "        'Fagaras' : 178,\n",
    "        'Giurgiu' : 77,\n",
    "        'Hirsova' : 151,\n",
    "        'Iasi' : 226,\n",
    "        'Lugoj' : 244,\n",
    "        'Mehadia' : 241,\n",
    "        'Neamt' : 234,\n",
    "        'Oradea' : 380,\n",
    "        'Pitesti' : 98,\n",
    "        'Rimnicu Vilcea' : 193,\n",
    "        'Sibiu' : 253,\n",
    "        'Timisoara' : 329,\n",
    "        'Urziceni' : 80,\n",
    "        'Vaslui' : 199,\n",
    "        'Zerind' : 374}\n",
    ")"
   ]
  },
  {
   "cell_type": "markdown",
   "metadata": {},
   "source": [
    "### 2. Depth-First Search\n",
    "\n",
    "Depth-First Search is the default search algorithm in AIPython.\n",
    "\n",
    "Running all the search algorithms is the same: create a `Searcher` object for the search problem, then call its `search` method to find the solution.\n",
    "\n",
    "Adjust the `max_display_level` value to see more or less detail of the search."
   ]
  },
  {
   "cell_type": "code",
   "execution_count": 5,
   "metadata": {},
   "outputs": [
    {
     "name": "stdout",
     "output_type": "stream",
     "text": [
      "Expanding: Arad with neighbors [Arad --> Zerind, Arad --> Sibiu, Arad --> Timisoara]\n",
      "Expanding: Arad --> Zerind with neighbors [Zerind --> Oradea, Zerind --> Arad]\n",
      "Expanding: Arad --> Zerind --> Oradea with neighbors [Oradea --> Sibiu, Oradea --> Zerind]\n",
      "Expanding: Arad --> Zerind --> Oradea --> Sibiu with neighbors [Sibiu --> Fagaras, Sibiu --> Rimnicu Vilcea, Sibiu --> Arad, Sibiu --> Oradea]\n",
      "Expanding: Arad --> Zerind --> Oradea --> Sibiu --> Fagaras with neighbors [Fagaras --> Bucharest, Fagaras --> Sibiu]\n",
      "Solution: Arad --> Zerind --> Oradea --> Sibiu --> Fagaras --> Bucharest (cost: 607)\n",
      " 6 paths have been expanded and 8 paths remain in the frontier\n",
      "Path found: Arad --> Zerind --> Oradea --> Sibiu --> Fagaras --> Bucharest ... cost = 607\n"
     ]
    }
   ],
   "source": [
    "from searchGeneric import Searcher\n",
    "\n",
    "Searcher.max_display_level = 2 # Adjust this to see more or less detail\n",
    "\n",
    "searcher = Searcher(romania_map)\n",
    "print(\"Path found:\", searcher.search(), \"... cost =\", searcher.solution.cost)"
   ]
  },
  {
   "cell_type": "markdown",
   "metadata": {},
   "source": [
    "__Order of Successors__\n",
    "\n",
    "What order are the successor nodes in the AIPython depth first search added to the frontier?\n",
    "\n",
    "Examine the AIPython code to find out how this order is determined.\n",
    "\n",
    "What difference does this make to the behaviour of the algorithm?"
   ]
  },
  {
   "cell_type": "markdown",
   "metadata": {},
   "source": [
    "__Cycle Checking__\n",
    "\n",
    "Our version of Depth-First Search does cycle checking along a path (at time of node generation)?\n",
    "\n",
    "Examine the AIPython code to find out whether cycle checking is performed.\n",
    "\n",
    "What difference does this make to the behaviour of the algorithm?"
   ]
  },
  {
   "cell_type": "markdown",
   "metadata": {},
   "source": [
    "### 3. Breadth-First Search\n",
    "\n",
    "Breadth-First Search uses a queue rather than a stack, though in AIPython both are implemented using Python lists.\n",
    "\n",
    "Implement this by redefining the `search` method of `Searcher`, including how neighbours of a node are added to the frontier and how the search terminates."
   ]
  },
  {
   "cell_type": "code",
   "execution_count": 6,
   "metadata": {},
   "outputs": [],
   "source": [
    "from searchGeneric import Searcher\n",
    "from searchProblem import Path\n",
    "\n",
    "class BreadthFirstSearcher(Searcher):\n",
    "    def __init__(self, problem):\n",
    "        super().__init__(problem)\n",
    "        self.explored = set()\n",
    "\n",
    "    def search(self):\n",
    "        \"\"\"returns (next) path from the problem's start node to a goal node. \n",
    "        Returns None if no path exists.\n",
    "        \"\"\"\n",
    "        queue = [Path(self.problem.start)]\n",
    "        \n",
    "        while queue:\n",
    "            path = queue.pop(0)\n",
    "            self.num_expanded += 1\n",
    "            node = path.end()\n",
    "            \n",
    "            if self.problem.is_goal(node):\n",
    "                self.solution=path\n",
    "                self.display(1,\"goals found\", node)\n",
    "                return path\n",
    "            \n",
    "            if node not in self.explored:\n",
    "                self.explored.add(node)\n",
    "                for arc in self.problem.neighbors(node):\n",
    "                    new_path = Path(path, arc)\n",
    "                    queue.append(new_path)\n",
    "        \n",
    "        self.display(1,\"No (more) solutions. Total of\", self.num_expanded,\"paths expanded.\")\n",
    "        return path"
   ]
  },
  {
   "cell_type": "markdown",
   "metadata": {},
   "source": [
    "When complete, you should be able to run your code as follows."
   ]
  },
  {
   "cell_type": "code",
   "execution_count": 7,
   "metadata": {},
   "outputs": [
    {
     "name": "stdout",
     "output_type": "stream",
     "text": [
      "goals found Bucharest\n",
      "Path found: Arad --> Sibiu --> Fagaras --> Bucharest ... cost = 450\n"
     ]
    }
   ],
   "source": [
    "from searchGeneric import Searcher\n",
    "\n",
    "Searcher.max_display_level = 2 # Adjust this to see more or less detail\n",
    "\n",
    "bfsearcher = BreadthFirstSearcher(romania_map)\n",
    "print(\"Path found:\", bfsearcher.search(), \"... cost =\", bfsearcher.solution.cost)"
   ]
  },
  {
   "cell_type": "markdown",
   "metadata": {},
   "source": [
    "### 4. Uniform Cost Search\n",
    "\n",
    "Uniform Cost Search is a special case of A* search where the heuristic is the zero function (implemented here by ignoring the heuristic).\n",
    "\n",
    "This can be implemented as a subclass of `SearcherMPP`, which is in turn a subclass of `AStarSearcher` that prunes multiple paths.\n",
    "\n",
    "Multiple path pruning is essential for the Romania map problem. Why? Try running the search without multiple path pruning to see what happens.\n",
    "\n",
    "Explain why `AStarSearcher` does not need multiple path pruning (though technically the algorithm does use multiple path pruning)."
   ]
  },
  {
   "cell_type": "code",
   "execution_count": 8,
   "metadata": {},
   "outputs": [],
   "source": [
    "from searchMPP import SearcherMPP\n",
    "\n",
    "class UCSearcher(SearcherMPP):\n",
    "    \"\"\"returns a searcher for a problem.\n",
    "    Paths can be found by repeatedly calling search().\n",
    "    \"\"\"\n",
    "    \n",
    "    def add_to_frontier(self,path):\n",
    "        \"\"\"add path to the frontier with the appropriate cost\"\"\"\n",
    "        value = path.cost\n",
    "        self.frontier.add(path, value)"
   ]
  },
  {
   "cell_type": "code",
   "execution_count": 9,
   "metadata": {},
   "outputs": [
    {
     "name": "stdout",
     "output_type": "stream",
     "text": [
      "Expanding: Arad with neighbors [Arad --> Zerind, Arad --> Sibiu, Arad --> Timisoara]\n",
      "Expanding: Arad --> Zerind with neighbors [Zerind --> Oradea, Zerind --> Arad]\n",
      "Expanding: Arad --> Timisoara with neighbors [Timisoara --> Lugoj, Timisoara --> Arad]\n",
      "Expanding: Arad --> Sibiu with neighbors [Sibiu --> Fagaras, Sibiu --> Rimnicu Vilcea, Sibiu --> Arad, Sibiu --> Oradea]\n",
      "Expanding: Arad --> Zerind --> Oradea with neighbors [Oradea --> Sibiu, Oradea --> Zerind]\n",
      "Expanding: Arad --> Sibiu --> Rimnicu Vilcea with neighbors [Rimnicu Vilcea --> Pitesti, Rimnicu Vilcea --> Craiova, Rimnicu Vilcea --> Sibiu]\n",
      "Expanding: Arad --> Timisoara --> Lugoj with neighbors [Lugoj --> Mehadia, Lugoj --> Timisoara]\n",
      "Expanding: Arad --> Sibiu --> Fagaras with neighbors [Fagaras --> Bucharest, Fagaras --> Sibiu]\n",
      "Expanding: Arad --> Timisoara --> Lugoj --> Mehadia with neighbors [Mehadia --> Drobeta, Mehadia --> Lugoj]\n",
      "Expanding: Arad --> Sibiu --> Rimnicu Vilcea --> Pitesti with neighbors [Pitesti --> Craiova, Pitesti --> Rimnicu Vilcea, Pitesti --> Bucharest]\n",
      "Expanding: Arad --> Sibiu --> Rimnicu Vilcea --> Craiova with neighbors [Craiova --> Drobeta, Craiova --> Pitesti, Craiova --> Rimnicu Vilcea]\n",
      "Expanding: Arad --> Timisoara --> Lugoj --> Mehadia --> Drobeta with neighbors [Drobeta --> Mehadia, Drobeta --> Craiova]\n",
      "Solution: Arad --> Sibiu --> Rimnicu Vilcea --> Pitesti --> Bucharest (cost: 418)\n",
      " 13 paths have been expanded and 7 paths remain in the frontier\n",
      "Path found: Arad --> Sibiu --> Rimnicu Vilcea --> Pitesti --> Bucharest ... cost = 418\n"
     ]
    }
   ],
   "source": [
    "UCSearcher.max_display_level = 2 # Adjust this to see more or less detail\n",
    "\n",
    "ucsearcher = UCSearcher(romania_map)\n",
    "print(\"Path found:\", ucsearcher.search(), \"... cost =\", ucsearcher.solution.cost)"
   ]
  },
  {
   "cell_type": "markdown",
   "metadata": {},
   "source": [
    "Our version of Uniform Cost Search requires a check to ensure there is only one path (the \"best\" path\") to any given node in the frontier.\n",
    "\n",
    "Examine the AIPython code to see if this check is included in `searchMPP`.\n",
    "\n",
    "If the check is done, is it done when the multiple paths are generated, or when the end node is chosen for expansion? What difference does this make?"
   ]
  },
  {
   "cell_type": "markdown",
   "metadata": {},
   "source": [
    "### 5. Greedy Search\n",
    "\n",
    "Greedy Search can be implemented as a subclass of `AStarSearcher` where the path cost is ignored."
   ]
  },
  {
   "cell_type": "code",
   "execution_count": 10,
   "metadata": {},
   "outputs": [],
   "source": [
    "from searchGeneric import AStarSearcher\n",
    "\n",
    "class GreedySearcher(AStarSearcher):\n",
    "    \"\"\"returns a searcher for a problem.\n",
    "    Paths can be found by repeatedly calling search().\n",
    "    \"\"\"\n",
    "    \n",
    "    def add_to_frontier(self, path):\n",
    "        \"\"\"add path to the frontier with the appropriate cost\"\"\"\n",
    "        value = self.problem.heuristic(path.end())\n",
    "        self.frontier.add(path, value)"
   ]
  },
  {
   "cell_type": "code",
   "execution_count": 11,
   "metadata": {},
   "outputs": [
    {
     "name": "stdout",
     "output_type": "stream",
     "text": [
      "Expanding: Arad with neighbors [Arad --> Zerind, Arad --> Sibiu, Arad --> Timisoara]\n",
      "Expanding: Arad --> Sibiu with neighbors [Sibiu --> Fagaras, Sibiu --> Rimnicu Vilcea, Sibiu --> Arad, Sibiu --> Oradea]\n",
      "Expanding: Arad --> Sibiu --> Fagaras with neighbors [Fagaras --> Bucharest, Fagaras --> Sibiu]\n",
      "Solution: Arad --> Sibiu --> Fagaras --> Bucharest (cost: 450)\n",
      " 4 paths have been expanded and 6 paths remain in the frontier\n",
      "Path found: Arad --> Sibiu --> Fagaras --> Bucharest ... cost = 450\n"
     ]
    }
   ],
   "source": [
    "GreedySearcher.max_display_level = 2 # Adjust this to see more or less detail\n",
    "\n",
    "gsearcher = GreedySearcher(romania_map)\n",
    "print(\"Path found:\", gsearcher.search(), \"... cost =\", gsearcher.solution.cost)"
   ]
  },
  {
   "cell_type": "markdown",
   "metadata": {},
   "source": [
    "\n",
    "Here we have implemented Greedy Search using `AStarSearcher`, which in AIPython extends `Searcher` so does not use multiple path pruning.\n",
    "\n",
    "Does Greedy Search need multiple path pruning? Explain why or why not."
   ]
  },
  {
   "cell_type": "markdown",
   "metadata": {},
   "source": [
    "### 6. A* Search\n",
    "\n",
    "Finally, A* Search produces optimal solutions by combining the path cost (Uniform Cost Search) and heuristic (Greedy Search)."
   ]
  },
  {
   "cell_type": "code",
   "execution_count": 12,
   "metadata": {},
   "outputs": [
    {
     "name": "stdout",
     "output_type": "stream",
     "text": [
      "Expanding: Arad with neighbors [Arad --> Zerind, Arad --> Sibiu, Arad --> Timisoara]\n",
      "Expanding: Arad --> Sibiu with neighbors [Sibiu --> Fagaras, Sibiu --> Rimnicu Vilcea, Sibiu --> Arad, Sibiu --> Oradea]\n",
      "Expanding: Arad --> Sibiu --> Rimnicu Vilcea with neighbors [Rimnicu Vilcea --> Pitesti, Rimnicu Vilcea --> Craiova, Rimnicu Vilcea --> Sibiu]\n",
      "Expanding: Arad --> Sibiu --> Rimnicu Vilcea --> Pitesti with neighbors [Pitesti --> Craiova, Pitesti --> Rimnicu Vilcea, Pitesti --> Bucharest]\n",
      "Expanding: Arad --> Sibiu --> Fagaras with neighbors [Fagaras --> Bucharest, Fagaras --> Sibiu]\n",
      "Solution: Arad --> Sibiu --> Rimnicu Vilcea --> Pitesti --> Bucharest (cost: 418)\n",
      " 6 paths have been expanded and 10 paths remain in the frontier\n",
      "Path found: Arad --> Sibiu --> Rimnicu Vilcea --> Pitesti --> Bucharest ... cost = 418\n"
     ]
    }
   ],
   "source": [
    "from searchGeneric import AStarSearcher\n",
    "\n",
    "AStarSearcher.max_display_level = 2 # Adjust this to see more or less detail\n",
    "\n",
    "asearcher = AStarSearcher(romania_map)\n",
    "print(\"Path found:\", asearcher.search(), \"... cost =\", asearcher.solution.cost)"
   ]
  },
  {
   "cell_type": "markdown",
   "metadata": {},
   "source": [
    "\n",
    "Note that `AStarSearcher` in AIPython does not use multiple path pruning, whereas the official A* algorithm uses multiple path pruning.\n",
    "\n",
    "Does A* need multiple path pruning? What difference does it make?"
   ]
  }
 ],
 "metadata": {
  "colab": {
   "provenance": [],
   "toc_visible": true
  },
  "kernelspec": {
   "display_name": "Python 3",
   "language": "python",
   "name": "python3"
  },
  "language_info": {
   "codemirror_mode": {
    "name": "ipython",
    "version": 3
   },
   "file_extension": ".py",
   "mimetype": "text/x-python",
   "name": "python",
   "nbconvert_exporter": "python",
   "pygments_lexer": "ipython3",
   "version": "3.13.7"
  }
 },
 "nbformat": 4,
 "nbformat_minor": 1
}
